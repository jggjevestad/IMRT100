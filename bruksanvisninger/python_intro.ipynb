{
 "cells": [
  {
   "cell_type": "markdown",
   "metadata": {},
   "source": [
    "(python_intro)=\n",
    "# Introduksjon til Python\n",
    "Python er et at de mest anvendelige programmeringsspråkene for læring og utvkling, og støtter et stort utviklingsmiljø for pakker for alt fra statistikk til maskinlæring. Dere kommer til bruke Python mye gjennom studiet, så dette er en god anledning til å friske opp kunnskapene fra videregående skole og se hvordan dette programmeringsspråket kan brukes med enkle eksempler fra geomatikk.\n",
    "\n",
    "I undervisningen brukes Anaconda og Spyder for å skrive og kjøre kode. Har dere ikke Anaconda installerert enda kan dere laste det ned [her](https://www.anaconda.com/download/success).\n",
    "\n",
    "Har dere programmert tidligere og har et annet program dere liker bedre er det fullt mulig å bruke det.\n",
    "\n",
    "Nedenfor er det noen programmer dere får bruk for i IMRT100\n",
    "\n",
    "## Gjøre om mellom forskjellige vinkelmål\n"
   ]
  },
  {
   "cell_type": "code",
   "execution_count": 1,
   "metadata": {},
   "outputs": [
    {
     "name": "stdout",
     "output_type": "stream",
     "text": [
      "90.00000 grader tilsvarer 1.5707963 radianer\n",
      "90.00000 grader tilsvarer 100.00000 gon\n"
     ]
    }
   ],
   "source": [
    "from numpy import pi\n",
    "\n",
    "# Konverter fra grader til radianer\n",
    "def deg2rad(deg):\n",
    "    rad = deg*(pi/180)\n",
    "    return rad\n",
    "\n",
    "# Konverter fra radianer til grader\n",
    "def rad2deg(rad):\n",
    "    deg = rad*(180/pi)\n",
    "    return deg\n",
    "\n",
    "# Konverter fra gon til grader\n",
    "def grad2deg(grad):\n",
    "    deg = grad*(360/400)\n",
    "    return deg\n",
    "\n",
    "# Konverter fra grader til gon\n",
    "def deg2grad(deg):\n",
    "    grad = deg*(400/360)\n",
    "    return grad\n",
    "\n",
    "# Test funksjonene\n",
    "deg = 90\n",
    "\n",
    "rad = deg2rad(deg)\n",
    "print(f\"{deg:5.5f} grader tilsvarer {rad:8.7f} radianer\")\n",
    "\n",
    "grad = deg2grad(deg)\n",
    "print(f\"{deg:5.5f} grader tilsvarer {grad:6.5f} gon\")"
   ]
  },
  {
   "cell_type": "markdown",
   "metadata": {},
   "source": [
    "(python_gjennomsnitt)=\n",
    "## Beregning av gjennomsnitt og standardavvik\n",
    "\n",
    "Vi har en CSV fil fra f.eks. en GNSS mottaker og vi ønsker å beregne gjennomsnitt og standardavvik for alle posisjonene i filen.\n",
    "Har du en KML, eller GPX fil kan du konvertere den til CSV i QGIS. [Se bruksanvisning](/bruksanvisninger/qgis_csv_eksport.md)"
   ]
  },
  {
   "cell_type": "code",
   "execution_count": 11,
   "metadata": {},
   "outputs": [
    {
     "name": "stdout",
     "output_type": "stream",
     "text": [
      "Gjennomsnitt:  [ 600012.2831831  6615537.48157192]\n",
      "Standardavvik:  [1.22477852 1.39692817]\n"
     ]
    }
   ],
   "source": [
    "import csv\n",
    "from numpy import mean, std, array\n",
    "\n",
    "# Hvilken fil du vill lese inn. Ligger ikke fila i samme mappe som python-skriptet må du skrive hele stien.\n",
    "csv_file = 'data.csv'\n",
    "\n",
    "# Hvilke kolonner øst og nord koordinatene ligger i. I python er første kolonne 0, andre 1 osv.\n",
    "easting = 0\n",
    "northing = 1\n",
    "\n",
    "# Her leser vi inn fila og returnerer et numpy array. Et numpy array er litt som et regneark med kolonner og rader\n",
    "def read_csv(file_name):\n",
    "    with open(file_name, 'r') as file:\n",
    "        line = csv.reader(file)\n",
    "        # line.__next__() gjør at vi hopper over første rad i fila, siden den ikke har koordinater men navnet på kolonnene (X, Y)\n",
    "        # Har ikke fila en slik \"heading\" den fjernes\n",
    "        line.__next__()\n",
    "        data = array(list(line))\n",
    "    return data\n",
    "\n",
    "# I disse funksjonene henter vi ut x og y kolonnene og gjør utregninger på de seperat. \n",
    "# Vi bruker funksjoner fra numpy slik at vi slipper å skrive formlene for gjennomsnitt og standardavvik selv.\n",
    "def compute_mean(data):\n",
    "    data = data[:, [easting, northing] ].astype(float)\n",
    "    return mean(data, axis=0)\n",
    "\n",
    "def compute_std(data):\n",
    "    data = data[:, [easting, northing] ].astype(float)\n",
    "    return std(data, axis=0)\n",
    "\n",
    "# Test funksjonene\n",
    "data = read_csv(csv_file)\n",
    "print('Gjennomsnitt: ', compute_mean(data))\n",
    "print('Standardavvik: ', compute_std(data))"
   ]
  },
  {
   "cell_type": "code",
   "execution_count": 3,
   "metadata": {},
   "outputs": [],
   "source": [
    "# Funksjon som konverterer fra CSV til KML\n",
    "\n",
    "# Import\n",
    "import csv\n",
    "import simplekml\n",
    "\n",
    "csv_file = 'data.csv'\n",
    "kml_file = 'data.kml'\n",
    "\n",
    "# Funksjon som konverterer fra CSV format til KML format\n",
    "def csv2kml(csv_file, kml_file):\n",
    "    kml = simplekml.Kml()\n",
    "    with open(csv_file, 'r') as file:\n",
    "        reader = csv.reader(file)\n",
    "        for row in reader:\n",
    "            kml.newpoint(name=row[0], coords=[(row[1], row[2])])\n",
    "    kml.save(kml_file)\n",
    "\n",
    "# Test funksjonen\n",
    "csv2kml(csv_file, kml_file)"
   ]
  },
  {
   "cell_type": "markdown",
   "metadata": {},
   "source": [
    "## CSV eksempel\n",
    "\n",
    "Her finner dere en liten eksempelfil [data.csv](data.csv) som dere kan teste programmet på ."
   ]
  }
 ],
 "metadata": {
  "kernelspec": {
   "display_name": "Python 3 (ipykernel)",
   "language": "python",
   "name": "python3"
  },
  "language_info": {
   "codemirror_mode": {
    "name": "ipython",
    "version": 3
   },
   "file_extension": ".py",
   "mimetype": "text/x-python",
   "name": "python",
   "nbconvert_exporter": "python",
   "pygments_lexer": "ipython3",
   "version": "3.12.4"
  },
  "widgets": {
   "application/vnd.jupyter.widget-state+json": {
    "state": {},
    "version_major": 2,
    "version_minor": 0
   }
  }
 },
 "nbformat": 4,
 "nbformat_minor": 4
}
