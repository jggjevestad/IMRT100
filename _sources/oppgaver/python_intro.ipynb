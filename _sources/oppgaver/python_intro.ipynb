{
 "cells": [
  {
   "cell_type": "markdown",
   "metadata": {},
   "source": [
    "(python_intro)=\n",
    "# Introduksjon til Python\n",
    "Python er et at de mest anvendelige programmeringsspråkene for læring og utvkling, og støtter et stort utviklingsmiljø for pakker for alt fra statistikk til maskinlæring. Dere kommer til bruke Python mye gjennom studiet, så dette er en god anledning til å friske opp kunnskapene fra videregående skole og se hvordan dette programmeringsspråket kan brukes med enkle eksempler fra geomatikk.\n",
    "\n",
    "I undervisningen brukes Anaconda for å skrive og kjøre kode. Har dere ikke Anaconda installerert enda kan dere laste det ned [her](https://www.anaconda.com/download/success).\n",
    "Har dere programmert tidligere og har et annet program dere liker bedre er det fullt mulig å bruke det."
   ]
  },
  {
   "cell_type": "code",
   "execution_count": 1,
   "metadata": {},
   "outputs": [
    {
     "name": "stdout",
     "output_type": "stream",
     "text": [
      "90.000 grader tilsvarer 1.57080 radianer\n"
     ]
    }
   ],
   "source": [
    "# Import\n",
    "from numpy import pi\n",
    "\n",
    "# Konverter fra grader til radianer\n",
    "def deg2rad(deg):\n",
    "    return deg*(pi/180)\n",
    "\n",
    "# Test funksjonen\n",
    "deg = 90\n",
    "print(f\"{deg:5.3f} grader tilsvarer {deg2rad(deg):6.5f} radianer\")"
   ]
  }
 ],
 "metadata": {
  "kernelspec": {
   "display_name": "Python 3 (ipykernel)",
   "language": "python",
   "name": "python3"
  },
  "language_info": {
   "codemirror_mode": {
    "name": "ipython",
    "version": 3
   },
   "file_extension": ".py",
   "mimetype": "text/x-python",
   "name": "python",
   "nbconvert_exporter": "python",
   "pygments_lexer": "ipython3",
   "version": "3.11.9"
  },
  "widgets": {
   "application/vnd.jupyter.widget-state+json": {
    "state": {},
    "version_major": 2,
    "version_minor": 0
   }
  }
 },
 "nbformat": 4,
 "nbformat_minor": 4
}
