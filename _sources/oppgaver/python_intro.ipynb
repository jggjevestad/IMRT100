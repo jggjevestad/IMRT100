{
 "cells": [
  {
   "cell_type": "markdown",
   "metadata": {},
   "source": [
    "(python_intro)=\n",
    "# Introduksjon til Python\n",
    "Python er et at de mest anvendelige programmeringsspråkene for læring og utvkling, og støtter et stort utviklingsmiljø for pakker for alt fra statistikk til maskinlæring. Dere kommer til bruke Python mye gjennom studiet, så dette er en god anledning til å friske opp kunnskapene fra videregående skole og se hvordan dette programmeringsspråket kan brukes med enkle eksempler fra geomatikk.\n",
    "\n",
    "I undervisningen brukes Anaconda for å skrive og kjøre kode. Har dere ikke Anaconda installerert enda kan dere laste det ned [her](https://www.anaconda.com/download/success).\n",
    "Har dere programmert tidligere og har et annet program dere liker bedre er det fullt mulig å bruke det."
   ]
  },
  {
   "cell_type": "code",
   "execution_count": 1,
   "metadata": {},
   "outputs": [
    {
     "name": "stdout",
     "output_type": "stream",
     "text": [
      "90.00000 grader tilsvarer 1.5707963 radianer\n",
      "90.00000 grader tilsvarer 100.00000 gon\n"
     ]
    }
   ],
   "source": [
    "from numpy import pi\n",
    "\n",
    "# Konverter fra grader til radianer\n",
    "def deg2rad(deg):\n",
    "    rad = deg*(pi/180)\n",
    "    return rad\n",
    "\n",
    "# Konverter fra radianer til grader\n",
    "def rad2deg(rad):\n",
    "    deg = rad*(180/pi)\n",
    "    return deg\n",
    "\n",
    "# Konverter fra gon til grader\n",
    "def grad2deg(grad):\n",
    "    deg = grad*(360/400)\n",
    "    return deg\n",
    "\n",
    "# Konverter fra grader til gon\n",
    "def deg2grad(deg):\n",
    "    grad = deg*(400/360)\n",
    "    return grad\n",
    "\n",
    "# Test funksjon\n",
    "deg = 90\n",
    "\n",
    "rad = deg2rad(deg)\n",
    "print(f\"{deg:5.5f} grader tilsvarer {rad:8.7f} radianer\")\n",
    "\n",
    "grad = deg2grad(deg)\n",
    "print(f\"{deg:5.5f} grader tilsvarer {grad:6.5f} gon\")"
   ]
  },
  {
   "cell_type": "markdown",
   "metadata": {},
   "source": [
    "# Beregning av gjennomsnitt og standardavvik\n",
    "\n",
    "Vi har en CSV fil fra f.eks. en GNSS mottaker og vi ønsker å beregne gjennomsnitt og standardavvik for alle posisjonene i filen."
   ]
  },
  {
   "cell_type": "code",
   "execution_count": 2,
   "metadata": {},
   "outputs": [
    {
     "name": "stdout",
     "output_type": "stream",
     "text": [
      "Gjennomsnitt:  [10.00055 59.00055]\n",
      "Standardavvik:  [0.00028723 0.00028723]\n"
     ]
    }
   ],
   "source": [
    "import csv\n",
    "from numpy import mean, std, array\n",
    "\n",
    "csv_file = 'data.csv'\n",
    "\n",
    "def read_csv(file_name):\n",
    "    with open(file_name, 'r') as file:\n",
    "        line = csv.reader(file)\n",
    "        data = list(line)\n",
    "    return data\n",
    "\n",
    "def compute_mean(data):\n",
    "    data = array(data)\n",
    "    data = data[:,1:].astype(float)\n",
    "    return mean(data, axis=0)\n",
    "\n",
    "def compute_std(data):\n",
    "    data = array(data)\n",
    "    data = data[:,1:].astype(float)\n",
    "    return std(data, axis=0)\n",
    "\n",
    "# Test funksjon\n",
    "data = read_csv(csv_file)\n",
    "print('Gjennomsnitt: ', compute_mean(data))\n",
    "print('Standardavvik: ', compute_std(data))"
   ]
  },
  {
   "cell_type": "code",
   "execution_count": 3,
   "metadata": {},
   "outputs": [],
   "source": [
    "# Funksjon som konverterer fra CSV til KML\n",
    "\n",
    "# Import\n",
    "import csv\n",
    "import simplekml\n",
    "\n",
    "csv_file = 'data.csv'\n",
    "kml_file = 'data.kml'\n",
    "\n",
    "# Funksjon som konverterer fra CSV format til KML format\n",
    "def csv2kml(csv_file, kml_file):\n",
    "    kml = simplekml.Kml()\n",
    "    with open(csv_file, 'r') as file:\n",
    "        reader = csv.reader(file)\n",
    "        for row in reader:\n",
    "            kml.newpoint(name=row[0], coords=[(row[1], row[2])])\n",
    "    kml.save(kml_file)\n",
    "\n",
    "# Test funksjonen\n",
    "csv2kml(csv_file, kml_file)"
   ]
  },
  {
   "cell_type": "markdown",
   "metadata": {},
   "source": [
    "## CSV eksempel\n",
    "\n",
    "Her finner dere en liten eksempelfil [data.csv](data.csv) som dere kan teste programmet på ."
   ]
  }
 ],
 "metadata": {
  "kernelspec": {
   "display_name": "Python 3 (ipykernel)",
   "language": "python",
   "name": "python3"
  },
  "language_info": {
   "codemirror_mode": {
    "name": "ipython",
    "version": 3
   },
   "file_extension": ".py",
   "mimetype": "text/x-python",
   "name": "python",
   "nbconvert_exporter": "python",
   "pygments_lexer": "ipython3",
   "version": "3.11.9"
  },
  "widgets": {
   "application/vnd.jupyter.widget-state+json": {
    "state": {},
    "version_major": 2,
    "version_minor": 0
   }
  }
 },
 "nbformat": 4,
 "nbformat_minor": 4
}
